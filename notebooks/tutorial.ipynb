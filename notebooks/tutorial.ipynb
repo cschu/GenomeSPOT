{
 "cells": [
  {
   "cell_type": "code",
   "execution_count": 1,
   "id": "150ea3dd-bf90-4c56-a063-00c645a8097b",
   "metadata": {},
   "outputs": [],
   "source": [
    "import datetime\n",
    "import sys\n",
    "from pathlib import Path\n",
    "\n",
    "import matplotlib.pyplot as plt\n",
    "import numpy as np\n",
    "import pandas as pd\n",
    "\n",
    "ROOT_DIR = str(Path().resolve().parent)\n",
    "sys.path.append(f\"{ROOT_DIR}/src/\")\n",
    "plt.style.use(f'{ROOT_DIR}/notebooks/project.mplstyle')"
   ]
  },
  {
   "cell_type": "markdown",
   "id": "daf047c2-b946-4f4c-ac39-50b3a77db91f",
   "metadata": {},
   "source": [
    "# Running on Genomes"
   ]
  },
  {
   "cell_type": "code",
   "execution_count": 2,
   "id": "cd34cb9f-596a-4b5b-95fe-02175d7ce797",
   "metadata": {},
   "outputs": [],
   "source": [
    "contig_filepath = f\"{ROOT_DIR}/tests/test_data/GCA_000172155.1_ASM17215v1_genomic.fna.gz\"\n",
    "protein_filepath = f\"{ROOT_DIR}/tests/test_data/GCA_000172155.1_ASM17215v1_protein.faa.gz\""
   ]
  },
  {
   "cell_type": "markdown",
   "id": "ed667fc8-51cc-4ed1-8937-c5098c645307",
   "metadata": {},
   "source": [
    "## Prediction of growth conditions\n",
    "\n"
   ]
  },
  {
   "cell_type": "code",
   "execution_count": 3,
   "id": "7debab9a-dd1a-41ad-bfc8-bc9c235efd0e",
   "metadata": {},
   "outputs": [
    {
     "name": "stdout",
     "output_type": "stream",
     "text": [
      "2023-11-29 15:20:27.600687\n",
      "2023-11-29 15:20:34.650353\n"
     ]
    },
    {
     "data": {
      "text/html": [
       "<div>\n",
       "<style scoped>\n",
       "    .dataframe tbody tr th:only-of-type {\n",
       "        vertical-align: middle;\n",
       "    }\n",
       "\n",
       "    .dataframe tbody tr th {\n",
       "        vertical-align: top;\n",
       "    }\n",
       "\n",
       "    .dataframe thead th {\n",
       "        text-align: right;\n",
       "    }\n",
       "</style>\n",
       "<table border=\"1\" class=\"dataframe\">\n",
       "  <thead>\n",
       "    <tr style=\"text-align: right;\">\n",
       "      <th></th>\n",
       "      <th>value</th>\n",
       "      <th>lower_ci</th>\n",
       "      <th>upper_ci</th>\n",
       "      <th>warning</th>\n",
       "    </tr>\n",
       "  </thead>\n",
       "  <tbody>\n",
       "    <tr>\n",
       "      <th>oxygen</th>\n",
       "      <td>0.981243</td>\n",
       "      <td>NaN</td>\n",
       "      <td>NaN</td>\n",
       "      <td>NaN</td>\n",
       "    </tr>\n",
       "    <tr>\n",
       "      <th>ph_max</th>\n",
       "      <td>8.728332</td>\n",
       "      <td>NaN</td>\n",
       "      <td>NaN</td>\n",
       "      <td>NaN</td>\n",
       "    </tr>\n",
       "    <tr>\n",
       "      <th>ph_min</th>\n",
       "      <td>5.345892</td>\n",
       "      <td>NaN</td>\n",
       "      <td>NaN</td>\n",
       "      <td>NaN</td>\n",
       "    </tr>\n",
       "    <tr>\n",
       "      <th>ph_optimum</th>\n",
       "      <td>7.243117</td>\n",
       "      <td>NaN</td>\n",
       "      <td>NaN</td>\n",
       "      <td>NaN</td>\n",
       "    </tr>\n",
       "    <tr>\n",
       "      <th>salinity_max</th>\n",
       "      <td>7.258816</td>\n",
       "      <td>NaN</td>\n",
       "      <td>NaN</td>\n",
       "      <td>NaN</td>\n",
       "    </tr>\n",
       "    <tr>\n",
       "      <th>salinity_min</th>\n",
       "      <td>2.509730</td>\n",
       "      <td>NaN</td>\n",
       "      <td>NaN</td>\n",
       "      <td>NaN</td>\n",
       "    </tr>\n",
       "    <tr>\n",
       "      <th>salinity_optimum</th>\n",
       "      <td>4.434118</td>\n",
       "      <td>NaN</td>\n",
       "      <td>NaN</td>\n",
       "      <td>NaN</td>\n",
       "    </tr>\n",
       "    <tr>\n",
       "      <th>temperature_max</th>\n",
       "      <td>35.297075</td>\n",
       "      <td>NaN</td>\n",
       "      <td>NaN</td>\n",
       "      <td>NaN</td>\n",
       "    </tr>\n",
       "    <tr>\n",
       "      <th>temperature_min</th>\n",
       "      <td>15.892330</td>\n",
       "      <td>NaN</td>\n",
       "      <td>NaN</td>\n",
       "      <td>NaN</td>\n",
       "    </tr>\n",
       "    <tr>\n",
       "      <th>temperature_optimum</th>\n",
       "      <td>27.934813</td>\n",
       "      <td>NaN</td>\n",
       "      <td>NaN</td>\n",
       "      <td>NaN</td>\n",
       "    </tr>\n",
       "  </tbody>\n",
       "</table>\n",
       "</div>"
      ],
      "text/plain": [
       "                         value  lower_ci  upper_ci  warning\n",
       "oxygen                0.981243       NaN       NaN      NaN\n",
       "ph_max                8.728332       NaN       NaN      NaN\n",
       "ph_min                5.345892       NaN       NaN      NaN\n",
       "ph_optimum            7.243117       NaN       NaN      NaN\n",
       "salinity_max          7.258816       NaN       NaN      NaN\n",
       "salinity_min          2.509730       NaN       NaN      NaN\n",
       "salinity_optimum      4.434118       NaN       NaN      NaN\n",
       "temperature_max      35.297075       NaN       NaN      NaN\n",
       "temperature_min      15.892330       NaN       NaN      NaN\n",
       "temperature_optimum  27.934813       NaN       NaN      NaN"
      ]
     },
     "execution_count": 3,
     "metadata": {},
     "output_type": "execute_result"
    }
   ],
   "source": [
    "from predict_physicochemistry import predict_physicochemistry\n",
    "\n",
    "print(datetime.datetime.now())\n",
    "predictions, genome_features = predict_physicochemistry(\n",
    "        fna_path=contig_filepath,\n",
    "        faa_path=protein_filepath,\n",
    "        features_json=None,\n",
    "        instructions_filename=f\"{ROOT_DIR}/models/instructions.json\",\n",
    "        #save_intermediate=False,\n",
    "    )\n",
    "print(datetime.datetime.now())\n",
    "\n",
    "pd.DataFrame(predictions).T.sort_index()"
   ]
  },
  {
   "cell_type": "markdown",
   "id": "d2a9514d-3c63-4cd8-a51c-2ff0a7a717da",
   "metadata": {},
   "source": [
    "## Measure Genome Features"
   ]
  },
  {
   "cell_type": "markdown",
   "id": "a138d73a-0420-47c6-8c18-9ccfdfa21e0b",
   "metadata": {},
   "source": [
    "### 1 Protein Sequence"
   ]
  },
  {
   "cell_type": "code",
   "execution_count": 4,
   "id": "a4aab02c-c9a7-45d6-9720-df32493e1930",
   "metadata": {},
   "outputs": [
    {
     "data": {
      "text/plain": [
       "{'pi': 5.382106971740723,\n",
       " 'zc': 0.19821826280623608,\n",
       " 'nh2o': 0.07137639198218272,\n",
       " 'gravy': -0.6514476614699332,\n",
       " 'thermostable_freq': 0.356347438752784,\n",
       " 'length': 449,\n",
       " 'is_exported': False,\n",
       " 'aa_M': 0.0200445434298441,\n",
       " 'aa_A': 0.08463251670378619,\n",
       " 'aa_Q': 0.10690423162583519,\n",
       " 'aa_D': 0.0757238307349666,\n",
       " 'aa_V': 0.0935412026726058,\n",
       " 'aa_K': 0.0334075723830735,\n",
       " 'aa_T': 0.0400890868596882,\n",
       " 'aa_P': 0.0467706013363029,\n",
       " 'aa_Y': 0.026726057906458798,\n",
       " 'aa_R': 0.062360801781737196,\n",
       " 'aa_I': 0.031180400890868598,\n",
       " 'aa_L': 0.08240534521158129,\n",
       " 'aa_E': 0.05790645879732739,\n",
       " 'aa_W': 0.0022271714922048997,\n",
       " 'aa_G': 0.08685968819599109,\n",
       " 'aa_N': 0.035634743875278395,\n",
       " 'aa_F': 0.011135857461024499,\n",
       " 'aa_H': 0.035634743875278395,\n",
       " 'aa_S': 0.066815144766147}"
      ]
     },
     "execution_count": 4,
     "metadata": {},
     "output_type": "execute_result"
    }
   ],
   "source": [
    "from protein import Protein\n",
    "\n",
    "sequence = ''.join(\"\"\"MAAQDVKQQTPYRVIQLEWDAEKGERNEAVGNFDELVTHHPKSNSDAHLVDGKVVGGQAG\n",
    "RTLGVVGGEIQEIEVSKAGKDYGLRPDQVLLKKDFMLEDSRLPSGPSSRSLDVPSPVAGV\n",
    "VGTVNTSKGLVDVLDREGGDVILRVRHMSPLHVKAGDQVEYGQALGVQGKQATGAIHVHM\n",
    "EVDSRYYQHYENYVGDLVSGRLSIDAERRDRGIEPRPFVDDGTIRIGGSSEMVQKVQQTL\n",
    "NAEGYRGADNQPLQEDGVYRLSMQAAVINYQQAHGLSQTGDIDPATLQQIAPRTFPPELN\n",
    "REDHNATPTYRNLQGAVPSQDPLHRQAEEDVRRLEQSLGRDYDDNSARLAASSAHLAKAN\n",
    "GLTQIDHVVLSNQTAAVGKGENVFVVQGALDNPAHLMAHMKTSDAIAQPVEQSLSQLQTL\n",
    "SETQRQQQAQQQSQQQDQQQLSAPQHRMV\"\"\".split('\\n'))\n",
    "\n",
    "protein = Protein(sequence)\n",
    "protein.protein_metrics()"
   ]
  },
  {
   "cell_type": "markdown",
   "id": "c297cdc7-d2d9-4fec-94c5-e86987a7208c",
   "metadata": {},
   "source": [
    "### 1 Signal Peptide Prediction"
   ]
  },
  {
   "cell_type": "code",
   "execution_count": 5,
   "id": "ba454b1f-0731-46ef-9306-09e6089605ea",
   "metadata": {},
   "outputs": [
    {
     "data": {
      "text/plain": [
       "(True, 'MNKTLIAAAVAGIVLLASNAQA')"
      ]
     },
     "execution_count": 5,
     "metadata": {},
     "output_type": "execute_result"
    }
   ],
   "source": [
    "from signal_peptide import SignalPeptideHMM\n",
    "\n",
    "partial_sequence = 'MNKTLIAAAVAGIVLLASNAQAQTVPEGYQLQQVLMMSRHNLRAPLANNG'\n",
    "\n",
    "signal_peptide_model = SignalPeptideHMM()\n",
    "is_exported, signal_end_index = signal_peptide_model.predict_signal_peptide(partial_sequence)\n",
    "signal_peptide = partial_sequence[:signal_end_index+1]\n",
    "is_exported, signal_peptide"
   ]
  },
  {
   "cell_type": "markdown",
   "id": "7722bc5b-7b01-4098-aa68-eddaa1305096",
   "metadata": {},
   "source": [
    "### 1 DNA Sequence\n"
   ]
  },
  {
   "cell_type": "code",
   "execution_count": 6,
   "id": "c346e51b-acb9-438d-a5b5-0a7eda11dd3d",
   "metadata": {},
   "outputs": [
    {
     "data": {
      "text/plain": [
       "{'nt_length': 585,\n",
       " 'pur_pyr_transition_freq': 0.4897260273972603,\n",
       " 'nt_C': 0.558974358974359,\n",
       " 'nt_A': 0.441025641025641}"
      ]
     },
     "execution_count": 6,
     "metadata": {},
     "output_type": "execute_result"
    }
   ],
   "source": [
    "from dna import DNA\n",
    "\n",
    "sequence = \"GGATGGACGGAGGAATTCCTCAAGGAAGTCGGGCCCGCGCTGGTGGTACTCGGTCCAGGCTTCTTGCACGAAGAAGTCTCCGACCGCGCCTCTCTCCACCCTCCTGGCAAAATCGGCCAGTGACTTGATGCCGATGTGGTAGATGAAGCCGGTGTCGAGTACGCCCTTGGCGAAGGTCGGGTCCGCCAGCCTCTCGGGAAAATTTTCTTCGATGTTCAGATAGTAGCCGCGCATGCTGACGCCACGGCTATCTAAAGTGAACATTCCGTCCTTCAGAATGCAATCGGCATGGTGCCAAAATCCAGAGCCCACCGCGCTGGCAATCTTGTTGTCGTCAACTGCGTCGGATCGGACGAGGCACTTCGTGAACGGCGCCGGCAATTCGGACCGTCGAGTGTAATTACGGATTGCGGACCCAGACGGGCGCGTGGCGTGGCCGTTATGCCCAGCATTGACGGAGAACAGGTGGATTGCCCCCACTCCACCCGGAAAGCGTGAGATAAACTCTCGGATCGTGTCGTCGTTGCGCAGTAAAATAAATTCGTCAACATCGAGAAATATGTAATTACGGCTCAGATGTTTAAA\"\n",
    "dna = DNA(sequence)\n",
    "dna.nucleotide_metrics()"
   ]
  },
  {
   "cell_type": "markdown",
   "id": "d08ab94f-ff2a-4ffd-af08-7f459e0e2a20",
   "metadata": {},
   "source": [
    "### All Protein and DNA Sequences\n",
    "\n",
    "Note: It is expected and good to see NaN for many features because they cannot be computed by cellular localization."
   ]
  },
  {
   "cell_type": "code",
   "execution_count": null,
   "id": "2703afe3-c023-42db-b56b-241a9a2a4fcd",
   "metadata": {},
   "outputs": [
    {
     "name": "stdout",
     "output_type": "stream",
     "text": [
      "2023-11-29 15:20:34.677249\n"
     ]
    }
   ],
   "source": [
    "from genome import Genome\n",
    "from signal_peptide import SignalPeptideHMM\n",
    "\n",
    "\n",
    "genome_calc = Genome(\n",
    "    contig_filepath=contig_filepath, \n",
    "    protein_filepath=protein_filepath,\n",
    ")\n",
    "\n",
    "print(datetime.datetime.now())\n",
    "genome_features = genome_calc.genome_metrics()\n",
    "print(datetime.datetime.now())"
   ]
  },
  {
   "cell_type": "code",
   "execution_count": null,
   "id": "5d79a162-928b-4292-bcb6-0d9f580feb41",
   "metadata": {},
   "outputs": [],
   "source": [
    "genome_features.keys()"
   ]
  },
  {
   "cell_type": "code",
   "execution_count": null,
   "id": "5f7b26a8-ff8e-4572-9569-cef2ff308f84",
   "metadata": {},
   "outputs": [],
   "source": [
    "df_genome = pd.DataFrame(genome_features)\n",
    "df_genome.head(30)"
   ]
  },
  {
   "cell_type": "markdown",
   "id": "5757327c-03af-40fd-a268-b7f5f01d5b3d",
   "metadata": {},
   "source": [
    "### All Proteins"
   ]
  },
  {
   "cell_type": "code",
   "execution_count": null,
   "id": "7ea53949-6736-4741-aaea-3fb225fd70f6",
   "metadata": {},
   "outputs": [],
   "source": [
    "protein_data = genome_calc.protein_data()\n",
    "df_proteins = pd.DataFrame(protein_data).T\n",
    "df_proteins"
   ]
  },
  {
   "cell_type": "code",
   "execution_count": null,
   "id": "bd854707-2e95-4f65-8aeb-b2b18c33acd7",
   "metadata": {},
   "outputs": [],
   "source": [
    "x = 'gravy'\n",
    "\n",
    "X = df_proteins[x].values \n",
    "\n",
    "fig, ax = plt.subplots()\n",
    "ax.hist(X, bins=100)\n",
    "#ax.axvline(0.5)\n",
    "\n",
    "plt.show()"
   ]
  },
  {
   "cell_type": "markdown",
   "id": "9e3bc8d6-44e8-49ab-a470-f33b05308143",
   "metadata": {},
   "source": [
    "# Model Training\n",
    "\n",
    "## Balancing a Dataset by Taxonomy"
   ]
  },
  {
   "cell_type": "code",
   "execution_count": 12,
   "id": "0516b6b9-5b64-4827-b4e9-1310108acc55",
   "metadata": {},
   "outputs": [],
   "source": [
    "import sys\n",
    "sys.path.append('../src/')\n",
    "with open('../tests/test_data/test_genome_accessions.txt', 'r') as fh:\n",
    "    genomes = [line.strip().split('.')[0] for line in fh.readlines()]"
   ]
  },
  {
   "cell_type": "code",
   "execution_count": 13,
   "id": "2b857ce5-54aa-45e9-ae0b-d2f2a7d76f5e",
   "metadata": {},
   "outputs": [
    {
     "data": {
      "text/plain": [
       "402709"
      ]
     },
     "execution_count": 13,
     "metadata": {},
     "output_type": "execute_result"
    }
   ],
   "source": [
    "from taxonomy import TaxonomyGTDB\n",
    "\n",
    "taxonomy = TaxonomyGTDB()\n",
    "len(taxonomy.taxonomy_dict.keys())"
   ]
  },
  {
   "cell_type": "code",
   "execution_count": 14,
   "id": "f2b0d02a-afa5-44ea-bbec-bf3605e544e8",
   "metadata": {},
   "outputs": [
    {
     "data": {
      "text/plain": [
       "{'GCA_000979555': ('Bacteria',\n",
       "  'Bacillota',\n",
       "  'Bacilli',\n",
       "  'Lactobacillales',\n",
       "  'Streptococcaceae',\n",
       "  'Streptococcus',\n",
       "  'Streptococcus pneumoniae')}"
      ]
     },
     "execution_count": 14,
     "metadata": {},
     "output_type": "execute_result"
    }
   ],
   "source": [
    "accession = list(taxonomy.taxonomy_dict.keys())[0]\n",
    "{accession : taxonomy.taxonomy_dict['GCA_019399425']}"
   ]
  },
  {
   "cell_type": "code",
   "execution_count": 15,
   "id": "b800b3fd-a833-4fe1-a472-a39c97ffcd67",
   "metadata": {},
   "outputs": [
    {
     "data": {
      "text/plain": [
       "'GCA_017565965'"
      ]
     },
     "execution_count": 15,
     "metadata": {},
     "output_type": "execute_result"
    }
   ],
   "source": [
    "#taxonomy.taxonomy_dict[]\n",
    "list(taxonomy.taxonomy_dict.keys())[190000]"
   ]
  },
  {
   "cell_type": "code",
   "execution_count": 16,
   "id": "a0a326ac-0aed-49b3-816b-25b6ed868915",
   "metadata": {},
   "outputs": [
    {
     "data": {
      "text/plain": [
       "0.49996937588044343"
      ]
     },
     "execution_count": 16,
     "metadata": {},
     "output_type": "execute_result"
    }
   ],
   "source": [
    "from taxonomy import BalanceTaxa\n",
    "\n",
    "taxonomy = TaxonomyGTDB()\n",
    "balancer = BalanceTaxa(taxonomy=taxonomy)\n",
    "balanced_genomes = balancer.balance_dataset(\n",
    "    genomes=genomes,\n",
    "    proportion_to_keep=0.5,\n",
    "    diversity_rank=\"species\"\n",
    ")\n",
    "len(balanced_genomes) / len(genomes)"
   ]
  },
  {
   "cell_type": "markdown",
   "id": "d5e96cd9-c99a-4bf6-9e08-8f420fd335f5",
   "metadata": {},
   "source": [
    "## Partitioning (Splitting) a Dataset by Taxonomy"
   ]
  },
  {
   "cell_type": "code",
   "execution_count": 17,
   "id": "bf7d64b1-e769-490c-aa0a-7cbd9a25870d",
   "metadata": {},
   "outputs": [
    {
     "name": "stdout",
     "output_type": "stream",
     "text": [
      "0.20029400955531054 0.7997059904446895\n",
      "1635 114071\n"
     ]
    }
   ],
   "source": [
    "from taxonomy import PartitionTaxa\n",
    "\n",
    "partitioner = PartitionTaxa(\n",
    "    taxonomy=taxonomy,\n",
    "    partition_rank='family',\n",
    "    iteration_rank='phylum',\n",
    "    diversity_rank='genus',\n",
    ")\n",
    "\n",
    "partitioned_genomes = partitioner.partition(balanced_genomes, partition_size=0.2)\n",
    "nonpartitioned_genomes = set(balanced_genomes).difference(partitioned_genomes)\n",
    "extended_partitioned_genomes = partitioner.find_relatives_of_partitioned_set_in_reference(partitioned_genomes)\n",
    "\n",
    "print(len(partitioned_genomes) / len(balanced_genomes), len(nonpartitioned_genomes) / len(balanced_genomes))\n",
    "print(len(partitioned_genomes), len(extended_partitioned_genomes))"
   ]
  },
  {
   "cell_type": "code",
   "execution_count": 18,
   "id": "fbe27f78-ca9b-485b-bf1b-f3715a6e5319",
   "metadata": {},
   "outputs": [
    {
     "name": "stdout",
     "output_type": "stream",
     "text": [
      "Good!\n"
     ]
    }
   ],
   "source": [
    "# check for data leakage\n",
    "partitioned_taxa = taxonomy.taxa_of_genomes(partitioned_genomes, partitioner.partition_rank)\n",
    "nonpartitioned_taxa = taxonomy.taxa_of_genomes(nonpartitioned_genomes, partitioner.partition_rank)\n",
    "assert len(partitioned_taxa.intersection(nonpartitioned_taxa)) == 0\n",
    "\n",
    "# check partitioned genomes all present\n",
    "len(set(partitioned_genomes).intersection(extended_partitioned_genomes)) == len(set(partitioned_genomes))\n",
    "assert len(set(partitioned_genomes).difference(extended_partitioned_genomes)) == 0\n",
    "print('Good!')"
   ]
  },
  {
   "cell_type": "markdown",
   "id": "432c326d-580d-44cb-82ba-ec5cd250f586",
   "metadata": {},
   "source": [
    "## Creating Cross-Validation Sets"
   ]
  },
  {
   "cell_type": "code",
   "execution_count": null,
   "id": "b7adbc67-b1ea-46ee-a88a-4764b4060816",
   "metadata": {},
   "outputs": [],
   "source": [
    "# waiting for model training kit"
   ]
  },
  {
   "cell_type": "markdown",
   "id": "425d5484-a19b-4051-a875-fa78c1ed3348",
   "metadata": {},
   "source": [
    "## Balancing a Data Numerically"
   ]
  },
  {
   "cell_type": "code",
   "execution_count": null,
   "id": "22eb437a-ca8e-4fe2-ab6b-199ab1c2023d",
   "metadata": {},
   "outputs": [],
   "source": [
    "# waiting for model training kit"
   ]
  },
  {
   "cell_type": "markdown",
   "id": "3066859e-46ad-4613-9ef4-e1ddf346330f",
   "metadata": {},
   "source": [
    "# Trait Data"
   ]
  },
  {
   "cell_type": "markdown",
   "id": "ea301147-e470-4f9f-8389-c0aeb0cf53a3",
   "metadata": {},
   "source": [
    "## Download BacDive API Data"
   ]
  },
  {
   "cell_type": "code",
   "execution_count": 30,
   "id": "f0b88f25-bcb9-4208-9b86-203636dddd76",
   "metadata": {},
   "outputs": [
    {
     "name": "stdout",
     "output_type": "stream",
     "text": [
      "-- Authentication successful --\n"
     ]
    },
    {
     "data": {
      "text/plain": [
       "dict_keys(['General', 'Name and taxonomic classification', 'Morphology', 'Culture and growth conditions', 'Physiology and metabolism', 'Isolation, sampling and environmental information', 'Safety information', 'Sequence information', 'Genome-based predictions', 'External links', 'Reference'])"
      ]
     },
     "execution_count": 30,
     "metadata": {},
     "output_type": "execute_result"
    }
   ],
   "source": [
    "from model_training.download_training_data import QueryBacDive\n",
    "\n",
    "credentials_filepath = f'../../.bacdive_credentials'\n",
    "\n",
    "min_bacdive_id = 100\n",
    "max_bacdive_id = 200\n",
    "bacdive_dict = QueryBacDive(\n",
    "            credentials_filepath=credentials_filepath,\n",
    "            max_bacdive_id=int(max_bacdive_id),\n",
    "            min_bacdive_id=int(min_bacdive_id),\n",
    "        ).scrape_bacdive_api()\n",
    "\n",
    "strain_ids = list(bacdive_dict.keys())\n",
    "strain_data = bacdive_dict[strain_ids[0]]\n",
    "strain_data.keys()"
   ]
  },
  {
   "cell_type": "code",
   "execution_count": 31,
   "id": "2c77f13a-415f-4753-bc60-9a2203fb9fe9",
   "metadata": {},
   "outputs": [
    {
     "data": {
      "text/plain": [
       "{'@ref': 3774,\n",
       " 'BacDive-ID': 199,\n",
       " 'DSM-Number': 10002,\n",
       " 'keywords': ['genome sequence',\n",
       "  '16S sequence',\n",
       "  'Bacteria',\n",
       "  'mesophilic',\n",
       "  'animal pathogen'],\n",
       " 'description': 'Arcanobacterium phocae M1590/94/3 is a mesophilic animal pathogen that was isolated from lung of common seal.',\n",
       " 'NCBI tax id': {'NCBI tax id': 131112, 'Matching level': 'species'},\n",
       " 'strain history': '<- G. Foster, M1590/94/3',\n",
       " 'doi': '10.13145/bacdive199.20230509.8'}"
      ]
     },
     "execution_count": 31,
     "metadata": {},
     "output_type": "execute_result"
    }
   ],
   "source": [
    "strain_data['General']"
   ]
  },
  {
   "cell_type": "markdown",
   "id": "d59efe2a-9119-4d33-b8f1-2a5a09fd780e",
   "metadata": {},
   "source": [
    "## Parsing traits"
   ]
  },
  {
   "cell_type": "code",
   "execution_count": 29,
   "id": "6ba1f0e1-b5b2-46f8-be26-8ebbdca4b051",
   "metadata": {},
   "outputs": [
    {
     "data": {
      "text/plain": [
       "{'ncbi_accession': 'GCA_900475915.1',\n",
       " 'ncbi_taxid': 644284,\n",
       " 'strain_id': 197,\n",
       " 'species': 'Arcanobacterium haemolyticum',\n",
       " 'ph_optimum': None,\n",
       " 'ph_optimum_min': None,\n",
       " 'ph_optimum_max': None,\n",
       " 'temperature_optimum': 37.0,\n",
       " 'salinity_optimum': None,\n",
       " 'salinity_midpoint': None,\n",
       " 'salinity_min': None,\n",
       " 'salinity_max': None,\n",
       " 'ph_min': None,\n",
       " 'ph_max': None,\n",
       " 'temperature_min': 37.0,\n",
       " 'temperature_max': 37.0,\n",
       " 'oxygen': 1,\n",
       " 'use_ph_optimum': False,\n",
       " 'use_temperature_optimum': False,\n",
       " 'use_salinity_optimum': False,\n",
       " 'use_ph_range': False,\n",
       " 'use_temperature_range': False,\n",
       " 'use_salinity_range': False,\n",
       " 'use_oxygen': True,\n",
       " 'aerobe': None,\n",
       " 'anaerobe': 1,\n",
       " 'microaerophile': None,\n",
       " 'facultative anaerobe': 1,\n",
       " 'obligate aerobe': None,\n",
       " 'obligate anaerobe': None,\n",
       " 'facultative aerobe': None,\n",
       " 'aerotolerant': None,\n",
       " 'microaerotolerant': None}"
      ]
     },
     "execution_count": 29,
     "metadata": {},
     "output_type": "execute_result"
    }
   ],
   "source": [
    "from model_training.download_training_data import ComputeBacDiveTraits\n",
    "\n",
    "strain_data = bacdive_dict[strain_ids[2]]\n",
    "strain_traits = ComputeBacDiveTraits(strain_data).compute_trait_data()\n",
    "strain_traits"
   ]
  },
  {
   "cell_type": "code",
   "execution_count": null,
   "id": "37594dc5-5f8a-4856-92ba-5e4bb5153222",
   "metadata": {},
   "outputs": [],
   "source": []
  }
 ],
 "metadata": {
  "kernelspec": {
   "display_name": "venv_physicochemistry",
   "language": "python",
   "name": "venv_physicochemistry"
  },
  "language_info": {
   "codemirror_mode": {
    "name": "ipython",
    "version": 3
   },
   "file_extension": ".py",
   "mimetype": "text/x-python",
   "name": "python",
   "nbconvert_exporter": "python",
   "pygments_lexer": "ipython3",
   "version": "3.8.16"
  }
 },
 "nbformat": 4,
 "nbformat_minor": 5
}
